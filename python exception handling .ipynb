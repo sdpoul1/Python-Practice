{
 "cells": [
  {
   "cell_type": "code",
   "execution_count": 1,
   "metadata": {},
   "outputs": [
    {
     "ename": "NameError",
     "evalue": "name 'dsafdsafas' is not defined",
     "output_type": "error",
     "traceback": [
      "\u001b[1;31m---------------------------------------------------------------------------\u001b[0m",
      "\u001b[1;31mNameError\u001b[0m                                 Traceback (most recent call last)",
      "\u001b[1;32m<ipython-input-1-9d1d9ee454ca>\u001b[0m in \u001b[0;36m<module>\u001b[1;34m\u001b[0m\n\u001b[1;32m----> 1\u001b[1;33m \u001b[0mdsafdsafas\u001b[0m\u001b[1;33m\u001b[0m\u001b[1;33m\u001b[0m\u001b[0m\n\u001b[0m",
      "\u001b[1;31mNameError\u001b[0m: name 'dsafdsafas' is not defined"
     ]
    }
   ],
   "source": [
    "dsafdsafas"
   ]
  },
  {
   "cell_type": "code",
   "execution_count": 3,
   "metadata": {},
   "outputs": [
    {
     "ename": "ZeroDivisionError",
     "evalue": "division by zero",
     "output_type": "error",
     "traceback": [
      "\u001b[1;31m---------------------------------------------------------------------------\u001b[0m",
      "\u001b[1;31mZeroDivisionError\u001b[0m                         Traceback (most recent call last)",
      "\u001b[1;32m<ipython-input-3-c7767040d028>\u001b[0m in \u001b[0;36m<module>\u001b[1;34m\u001b[0m\n\u001b[1;32m----> 1\u001b[1;33m \u001b[1;36m1\u001b[0m\u001b[1;33m/\u001b[0m\u001b[1;36m0\u001b[0m\u001b[1;33m\u001b[0m\u001b[1;33m\u001b[0m\u001b[0m\n\u001b[0m\u001b[0;32m      2\u001b[0m \u001b[0mprint\u001b[0m\u001b[1;33m(\u001b[0m\u001b[1;34m\"this is my prog\"\u001b[0m\u001b[1;33m)\u001b[0m\u001b[1;33m\u001b[0m\u001b[1;33m\u001b[0m\u001b[0m\n",
      "\u001b[1;31mZeroDivisionError\u001b[0m: division by zero"
     ]
    }
   ],
   "source": [
    "1/0\n",
    "print(\"this is my prog\")"
   ]
  },
  {
   "cell_type": "code",
   "execution_count": 8,
   "metadata": {},
   "outputs": [
    {
     "name": "stdout",
     "output_type": "stream",
     "text": [
      "fdsafsafsaf\n",
      "this is my prog\n"
     ]
    }
   ],
   "source": [
    "try:\n",
    "    1/0\n",
    "except Exception as e :\n",
    "    print(\"fdsafsafsaf\")\n",
    "try:\n",
    "    print(\"this is my prog\")\n",
    "except :\n",
    "    print(\"fdsfsf\")\n",
    "    \n",
    "\n",
    "    "
   ]
  },
  {
   "cell_type": "code",
   "execution_count": 41,
   "metadata": {},
   "outputs": [
    {
     "name": "stdout",
     "output_type": "stream",
     "text": [
      "fsdsf  division by zero\n"
     ]
    }
   ],
   "source": [
    "try:\n",
    "    a = 10 / 0\n",
    "    try :\n",
    "        \n",
    "        f = open(\"test.txt\" , 'r')\n",
    "        f.write(\"this is my first file \")\n",
    "    except :\n",
    "        print(\"there is an issue \")\n",
    "    else :\n",
    "        print(\"this will be executed once internal try will execute succesfully \")\n",
    "\n",
    "except IOError:\n",
    "    print(\"this is my first except \")\n",
    "except ZeroDivisionError as e :\n",
    "    print(\"fsdsf \",e)\n",
    "except Exception as e :\n",
    "    print(\"this is my except with exception\",e)\n",
    "else :\n",
    "    print(\"this will be executed after a succesful execution of try\")\n"
   ]
  },
  {
   "cell_type": "code",
   "execution_count": 22,
   "metadata": {},
   "outputs": [
    {
     "ename": "UnsupportedOperation",
     "evalue": "not writable",
     "output_type": "error",
     "traceback": [
      "\u001b[1;31m---------------------------------------------------------------------------\u001b[0m",
      "\u001b[1;31mUnsupportedOperation\u001b[0m                      Traceback (most recent call last)",
      "\u001b[1;32m<ipython-input-22-722c8760bc61>\u001b[0m in \u001b[0;36m<module>\u001b[1;34m\u001b[0m\n\u001b[0;32m      1\u001b[0m \u001b[0mf\u001b[0m \u001b[1;33m=\u001b[0m \u001b[0mopen\u001b[0m\u001b[1;33m(\u001b[0m\u001b[1;34m\"test.txt\"\u001b[0m \u001b[1;33m,\u001b[0m \u001b[1;34m'r'\u001b[0m\u001b[1;33m)\u001b[0m\u001b[1;33m\u001b[0m\u001b[1;33m\u001b[0m\u001b[0m\n\u001b[1;32m----> 2\u001b[1;33m \u001b[0mf\u001b[0m\u001b[1;33m.\u001b[0m\u001b[0mwrite\u001b[0m\u001b[1;33m(\u001b[0m\u001b[1;34m\"this is my first file \"\u001b[0m\u001b[1;33m)\u001b[0m\u001b[1;33m\u001b[0m\u001b[1;33m\u001b[0m\u001b[0m\n\u001b[0m",
      "\u001b[1;31mUnsupportedOperation\u001b[0m: not writable"
     ]
    }
   ],
   "source": [
    "f = open(\"test.txt\" , 'r')\n",
    "f.write(\"this is my first file \")\n"
   ]
  },
  {
   "cell_type": "code",
   "execution_count": 10,
   "metadata": {},
   "outputs": [
    {
     "data": {
      "text/plain": [
       "'C:\\\\Users\\\\win10\\\\jupyter\\\\Complete Python Module-20210227T092441Z-001\\\\Complete Python Module'"
      ]
     },
     "execution_count": 10,
     "metadata": {},
     "output_type": "execute_result"
    }
   ],
   "source": [
    "pwd()"
   ]
  },
  {
   "cell_type": "code",
   "execution_count": 18,
   "metadata": {},
   "outputs": [
    {
     "name": "stdout",
     "output_type": "stream",
     "text": [
      " Volume in drive C has no label.\n",
      " Volume Serial Number is FA55-E833\n",
      "\n",
      " Directory of C:\\Users\\win10\\jupyter\\Complete Python Module-20210227T092441Z-001\\Complete Python Module\n",
      "\n",
      "10/03/2021  08:36 PM    <DIR>          .\n",
      "10/03/2021  08:36 PM    <DIR>          ..\n",
      "10/03/2021  08:10 PM    <DIR>          .ipynb_checkpoints\n",
      "07/07/2021  07:56 PM    <DIR>          1.Python Overview\n",
      "07/09/2021  11:52 PM    <DIR>          10.OS and Shutil\n",
      "07/07/2021  08:03 PM    <DIR>          11.1 Logging\n",
      "07/07/2021  08:03 PM    <DIR>          11.2 Debugger\n",
      "07/07/2021  08:03 PM    <DIR>          12. Module and import\n",
      "05/09/2021  02:34 PM    <DIR>          13. OOPS\n",
      "07/07/2021  08:04 PM    <DIR>          14. Exception\n",
      "04/11/2021  06:07 AM    <DIR>          15.1 Merge multiple jupyter notebooks Project\n",
      "04/11/2021  06:07 AM    <DIR>          15.2 Send Email Project\n",
      "04/11/2021  06:07 AM    <DIR>          15.3.Image Resize Project\n",
      "07/07/2021  08:04 PM    <DIR>          16-17. Pandas-Numpy\n",
      "07/07/2021  08:04 PM    <DIR>          18.1 MATPLOTLIB\n",
      "07/07/2021  08:04 PM    <DIR>          18.2 SEABORN\n",
      "07/24/2021  06:17 PM    <DIR>          18.3.Plotly\n",
      "07/25/2021  10:49 AM         1,460,397 18.3.Plotly.7z\n",
      "07/24/2021  06:17 PM    <DIR>          18.4.Cufflinks\n",
      "05/16/2021  03:05 PM    <DIR>          19.1.SqLite\n",
      "07/13/2021  08:56 PM    <DIR>          19.2.MySQL\n",
      "05/17/2021  04:55 PM         7,290,387 19.2.MySQL.7z\n",
      "07/13/2021  09:56 PM    <DIR>          19.3 MongoDB\n",
      "05/17/2021  04:55 PM         4,407,102 19.3 MongoDB.7z\n",
      "05/23/2021  12:43 PM    <DIR>          19.4.Cassandra\n",
      "05/23/2021  12:43 PM         2,645,265 19.4.Cassandra.7z\n",
      "07/07/2021  07:46 PM    <DIR>          2.Installation\n",
      "05/09/2021  01:46 PM    <DIR>          20.Memory Management\n",
      "05/24/2021  03:30 AM    <DIR>          21.Flask\n",
      "04/11/2021  06:07 AM    <DIR>          22.Food App\n",
      "05/23/2021  02:39 PM    <DIR>          23. Django\n",
      "05/31/2021  01:59 PM           552,367 23. Django.7z\n",
      "05/29/2021  02:15 PM    <DIR>          24.Weather App\n",
      "04/11/2021  06:07 AM    <DIR>          25.MemesGenerator App\n",
      "04/11/2021  06:07 AM    <DIR>          26. Django-blog app\n",
      "07/07/2021  08:01 PM    <DIR>          3. Basic variables\n",
      "07/07/2021  08:01 PM    <DIR>          4.Control Flow\n",
      "04/11/2021  06:07 AM    <DIR>          4.Expressions Operators and Precedence\n",
      "07/07/2021  08:01 PM    <DIR>          6. Variable-containers\n",
      "09/27/2021  12:46 PM    <DIR>          7.Functions\n",
      "07/07/2021  08:02 PM    <DIR>          8.Iterators Generators\n",
      "07/07/2021  08:02 PM    <DIR>          9.File I-O\n",
      "08/07/2021  02:05 PM         1,087,591 Advanced-House-Price-Prediction--master.zip\n",
      "08/07/2021  12:07 PM    <DIR>          AutoViz_Library_Shivan\n",
      "08/07/2021  12:07 PM       100,703,673 AutoViz_Library_Shivan.zip\n",
      "08/06/2021  03:07 PM    <DIR>          Bokeh-20210806T093644Z-001\n",
      "08/06/2021  03:06 PM         2,450,577 Bokeh-20210806T093644Z-001.zip\n",
      "08/07/2021  12:02 PM    <DIR>          Dask (3)\n",
      "08/07/2021  12:01 PM        69,190,349 Dask (3).zip\n",
      "08/07/2021  12:06 PM         9,522,530 Django (1).docx\n",
      "08/07/2021  02:34 PM            74,585 Feature Engineering Part 1.ipynb\n",
      "08/07/2021  02:05 PM    <DIR>          FIFA (1)\n",
      "08/07/2021  02:05 PM         6,329,167 FIFA (1).zip\n",
      "08/07/2021  02:05 PM    <DIR>          FitBit (3)\n",
      "08/07/2021  02:05 PM         1,806,804 FitBit (3).zip\n",
      "05/23/2021  06:22 PM    <DIR>          flask_demo\n",
      "08/07/2021  02:05 PM    <DIR>          Flight_Price\n",
      "08/07/2021  02:05 PM         1,344,407 Flight_Price.zip\n",
      "08/07/2021  02:05 PM    <DIR>          HRPrediction\n",
      "08/07/2021  02:05 PM           893,881 HRPrediction.zip\n",
      "08/18/2020  03:50 AM             6,095 Python Table of Content.xlsx\n",
      "07/08/2021  01:53 PM    <DIR>          QnA\n",
      "08/05/2021  06:16 PM       905,035,408 Streamlit-20210805T124211Z-001.zip\n",
      "10/03/2021  08:38 PM                 0 test.txt\n",
      "08/07/2021  03:03 PM           409,176 Tkinter.ipynb\n",
      "10/03/2021  08:36 PM             3,659 Untitled.ipynb\n",
      "08/07/2021  04:40 PM    <DIR>          zomato (4)\n",
      "08/07/2021  02:05 PM           517,670 zomato (4).zip\n",
      "              21 File(s)  1,115,731,090 bytes\n",
      "              47 Dir(s)  301,860,978,688 bytes free\n"
     ]
    }
   ],
   "source": [
    "ls"
   ]
  },
  {
   "cell_type": "code",
   "execution_count": 53,
   "metadata": {},
   "outputs": [
    {
     "name": "stdout",
     "output_type": "stream",
     "text": [
      "4565465\n",
      "68141.26865671642\n",
      "on successful execution of your try block\n",
      "it will execute always \n"
     ]
    }
   ],
   "source": [
    "try :\n",
    "    a = int(input())\n",
    "    print(a/67)\n",
    "except :\n",
    "    print(\"this is my error msg\")\n",
    "else :\n",
    "    print(\"on successful execution of your try block\")\n",
    "finally :\n",
    "    print(\"it will execute always \")"
   ]
  },
  {
   "cell_type": "code",
   "execution_count": 44,
   "metadata": {},
   "outputs": [
    {
     "name": "stdout",
     "output_type": "stream",
     "text": [
      "fsadfs\n"
     ]
    },
    {
     "ename": "ValueError",
     "evalue": "invalid literal for int() with base 10: 'fsadfs'",
     "output_type": "error",
     "traceback": [
      "\u001b[1;31m---------------------------------------------------------------------------\u001b[0m",
      "\u001b[1;31mValueError\u001b[0m                                Traceback (most recent call last)",
      "\u001b[1;32m<ipython-input-44-cefd37657352>\u001b[0m in \u001b[0;36m<module>\u001b[1;34m\u001b[0m\n\u001b[1;32m----> 1\u001b[1;33m \u001b[0ma\u001b[0m \u001b[1;33m=\u001b[0m \u001b[0mint\u001b[0m\u001b[1;33m(\u001b[0m\u001b[0minput\u001b[0m\u001b[1;33m(\u001b[0m\u001b[1;33m)\u001b[0m\u001b[1;33m)\u001b[0m\u001b[1;33m\u001b[0m\u001b[1;33m\u001b[0m\u001b[0m\n\u001b[0m\u001b[0;32m      2\u001b[0m \u001b[0mprint\u001b[0m\u001b[1;33m(\u001b[0m\u001b[0ma\u001b[0m\u001b[1;33m/\u001b[0m\u001b[1;36m67\u001b[0m\u001b[1;33m)\u001b[0m\u001b[1;33m\u001b[0m\u001b[1;33m\u001b[0m\u001b[0m\n",
      "\u001b[1;31mValueError\u001b[0m: invalid literal for int() with base 10: 'fsadfs'"
     ]
    }
   ],
   "source": [
    "a = int(input())\n",
    "print(a/67)"
   ]
  },
  {
   "cell_type": "code",
   "execution_count": 56,
   "metadata": {},
   "outputs": [],
   "source": [
    "def askint():\n",
    "    try :\n",
    "        val = int(input(\"try to input integer\"))\n",
    "    except Exception as e :\n",
    "        print(e)\n",
    "    finally:\n",
    "        print(\"this will execute by default\")\n",
    "        "
   ]
  },
  {
   "cell_type": "code",
   "execution_count": 57,
   "metadata": {},
   "outputs": [
    {
     "name": "stdout",
     "output_type": "stream",
     "text": [
      "try to input integergdfsgdsgdsgdsgds\n",
      "invalid literal for int() with base 10: 'gdfsgdsgdsgdsgds'\n",
      "this will execute by default\n"
     ]
    }
   ],
   "source": [
    "askint()"
   ]
  },
  {
   "cell_type": "code",
   "execution_count": 58,
   "metadata": {},
   "outputs": [],
   "source": [
    "def askint():\n",
    "    try:\n",
    "        a = int(input(\"Please enter input\"))\n",
    "        print(a//67)\n",
    "    except Exception as e:\n",
    "        askint()\n"
   ]
  },
  {
   "cell_type": "code",
   "execution_count": 59,
   "metadata": {},
   "outputs": [
    {
     "name": "stdout",
     "output_type": "stream",
     "text": [
      "Please enter inputdfsafsdfaf\n",
      "Please enter inputsdfafsaf\n",
      "Please enter inputfdsafsaf\n",
      "Please enter inputfdsafsaf\n",
      "Please enter input435646\n",
      "6502\n"
     ]
    }
   ],
   "source": [
    "askint()"
   ]
  },
  {
   "cell_type": "code",
   "execution_count": 60,
   "metadata": {},
   "outputs": [],
   "source": [
    "def askint():\n",
    "    try:\n",
    "        while 1:\n",
    "            val = int(input(\"Enter integer: \"))\n",
    "    except Exception as e:\n",
    "        print(e)\n",
    "    finally:\n",
    "        print(\"End of function\")\n"
   ]
  },
  {
   "cell_type": "code",
   "execution_count": 61,
   "metadata": {},
   "outputs": [
    {
     "name": "stdout",
     "output_type": "stream",
     "text": [
      "Enter integer: fsadf\n",
      "invalid literal for int() with base 10: 'fsadf'\n",
      "End of function\n"
     ]
    }
   ],
   "source": [
    "askint()"
   ]
  },
  {
   "cell_type": "code",
   "execution_count": 62,
   "metadata": {},
   "outputs": [],
   "source": [
    "def askint():\n",
    "    try:\n",
    "        \n",
    "        val = input(\"try to input integer : \")\n",
    "        if type(val) != int:\n",
    "            askint()\n",
    "    except Exception as e:\n",
    "        print(e)\n"
   ]
  },
  {
   "cell_type": "code",
   "execution_count": 68,
   "metadata": {},
   "outputs": [],
   "source": [
    "def askint():\n",
    "    try:\n",
    "        a = int(input(\"enter an integer\"))\n",
    "    except Exception as e :\n",
    "        askint()\n",
    "    finally:\n",
    "        print(\"this is my finally\")"
   ]
  },
  {
   "cell_type": "code",
   "execution_count": 69,
   "metadata": {},
   "outputs": [
    {
     "name": "stdout",
     "output_type": "stream",
     "text": [
      "enter an integerdsafa\n",
      "enter an integerfdsf\n",
      "enter an integerfdsf\n",
      "enter an integer234\n",
      "this is my finally\n",
      "this is my finally\n",
      "this is my finally\n",
      "this is my finally\n"
     ]
    }
   ],
   "source": [
    "askint()"
   ]
  },
  {
   "cell_type": "code",
   "execution_count": 79,
   "metadata": {},
   "outputs": [],
   "source": [
    "def askInt():\n",
    "    while True:\n",
    "        try:\n",
    "            a = int(input())\n",
    "        except Exception as e:\n",
    "            print('this is error', e)\n",
    "            continue\n",
    "        else:\n",
    "            break\n",
    "        finally:\n",
    "            print('all good in finally')\n",
    "        a/10\n"
   ]
  },
  {
   "cell_type": "code",
   "execution_count": 80,
   "metadata": {},
   "outputs": [
    {
     "name": "stdout",
     "output_type": "stream",
     "text": [
      "dfsfsaf\n",
      "this is error invalid literal for int() with base 10: 'dfsfsaf'\n",
      "all good in finally\n",
      "fdsf\n",
      "this is error invalid literal for int() with base 10: 'fdsf'\n",
      "all good in finally\n",
      "fdsf\n",
      "this is error invalid literal for int() with base 10: 'fdsf'\n",
      "all good in finally\n",
      "345435\n",
      "all good in finally\n"
     ]
    }
   ],
   "source": [
    "askInt()"
   ]
  },
  {
   "cell_type": "code",
   "execution_count": 81,
   "metadata": {},
   "outputs": [
    {
     "data": {
      "text/plain": [
       "0.5"
      ]
     },
     "execution_count": 81,
     "metadata": {},
     "output_type": "execute_result"
    }
   ],
   "source": [
    "5/10"
   ]
  },
  {
   "cell_type": "code",
   "execution_count": 89,
   "metadata": {},
   "outputs": [
    {
     "ename": "ZeroDivisionError",
     "evalue": "division by zero",
     "output_type": "error",
     "traceback": [
      "\u001b[1;31m---------------------------------------------------------------------------\u001b[0m",
      "\u001b[1;31mZeroDivisionError\u001b[0m                         Traceback (most recent call last)",
      "\u001b[1;32m<ipython-input-89-e574edb36883>\u001b[0m in \u001b[0;36m<module>\u001b[1;34m\u001b[0m\n\u001b[1;32m----> 1\u001b[1;33m \u001b[1;36m10\u001b[0m\u001b[1;33m/\u001b[0m\u001b[1;36m0\u001b[0m\u001b[1;33m\u001b[0m\u001b[1;33m\u001b[0m\u001b[0m\n\u001b[0m",
      "\u001b[1;31mZeroDivisionError\u001b[0m: division by zero"
     ]
    }
   ],
   "source": [
    "10/0"
   ]
  },
  {
   "cell_type": "code",
   "execution_count": 86,
   "metadata": {},
   "outputs": [],
   "source": [
    "def raiseexception(a):\n",
    "    if a <5 :\n",
    "        raise Exception(\"this is my custome msg \",a)\n",
    "    return a "
   ]
  },
  {
   "cell_type": "code",
   "execution_count": 87,
   "metadata": {},
   "outputs": [
    {
     "data": {
      "text/plain": [
       "7"
      ]
     },
     "execution_count": 87,
     "metadata": {},
     "output_type": "execute_result"
    }
   ],
   "source": [
    "raiseexception(7)"
   ]
  },
  {
   "cell_type": "code",
   "execution_count": 88,
   "metadata": {},
   "outputs": [
    {
     "name": "stdout",
     "output_type": "stream",
     "text": [
      "('this is my custome msg ', 4)\n"
     ]
    }
   ],
   "source": [
    "try:\n",
    "    raiseexception(4)\n",
    "except Exception as e :\n",
    "    print(e)"
   ]
  },
  {
   "cell_type": "code",
   "execution_count": 90,
   "metadata": {},
   "outputs": [
    {
     "data": {
      "text/plain": [
       "'task 1 - Write a program to insert integer into a list and if user has\\nentered lesser then 4 then raise your own exceptoin with custome msg \\nand if user is not entering an integer then keep asking user to \\ninter int all the time , you are suppose to enter 10 such int with \\nthis condition '"
      ]
     },
     "execution_count": 90,
     "metadata": {},
     "output_type": "execute_result"
    }
   ],
   "source": [
    "\"\"\"task 1 - Write a program to insert integer into a list and if user has\n",
    "entered lesser then 4 then raise your own exceptoin with custome msg \n",
    "and if user is not entering an integer then keep asking user to \n",
    "inter int all the time , you are suppose to enter 10 such int with \n",
    "this condition \"\"\""
   ]
  },
  {
   "cell_type": "code",
   "execution_count": null,
   "metadata": {},
   "outputs": [],
   "source": [
    "while True "
   ]
  },
  {
   "cell_type": "code",
   "execution_count": 92,
   "metadata": {},
   "outputs": [],
   "source": [
    "def filist():\n",
    "    try: \n",
    "        num =[]\n",
    "        for i in range(11):\n",
    "            a = int(input(\"Enter the number to add to the list: \"))\n",
    "            if type(a)== int and a>4:\n",
    "                num.append(a)\n",
    "            else:\n",
    "                raise ValeLesThan4\n",
    "                continue\n",
    "    except Exception as e:           \n",
    "                print(e)"
   ]
  },
  {
   "cell_type": "code",
   "execution_count": 93,
   "metadata": {},
   "outputs": [
    {
     "name": "stdout",
     "output_type": "stream",
     "text": [
      "Enter the number to add to the list: fdsaf\n",
      "invalid literal for int() with base 10: 'fdsaf'\n"
     ]
    }
   ],
   "source": [
    "filist()"
   ]
  },
  {
   "cell_type": "code",
   "execution_count": 94,
   "metadata": {},
   "outputs": [
    {
     "name": "stdout",
     "output_type": "stream",
     "text": [
      "Please input a interger value : dsf\n",
      "Please input a interger value : fdsf\n",
      "Please input a interger value : 2\n",
      "Please enter a value more than or eqaul to 4\n",
      "Please input a interger value : 6\n",
      "Please input a interger value : 7\n",
      "Please input a interger value : 8\n",
      "Please input a interger value : 7\n",
      "Please input a interger value : 8\n",
      "Please input a interger value : 9\n",
      "Please input a interger value : 6\n",
      "Please input a interger value : 8\n",
      "Please input a interger value : 9\n",
      "Please input a interger value : 7\n",
      "[6, 7, 8, 7, 8, 9, 6, 8, 9, 7]\n"
     ]
    }
   ],
   "source": [
    "def listinput():\n",
    "    l=[]\n",
    "    for i in range(10):\n",
    "        while True:\n",
    "            try:\n",
    "                a = int(input(\"Please input a interger value : \"))\n",
    "            except:\n",
    "                continue\n",
    "            else:\n",
    "                try:\n",
    "                    if a<4:\n",
    "                        raise Exception(a)\n",
    "                    else:\n",
    "                        l.append(a)\n",
    "                        break\n",
    "                except:\n",
    "                    print('Please enter a value more than or eqaul to 4')\n",
    "    print(l)\n",
    "            \n",
    "listinput()\n"
   ]
  },
  {
   "cell_type": "code",
   "execution_count": 96,
   "metadata": {},
   "outputs": [
    {
     "name": "stdout",
     "output_type": "stream",
     "text": [
      "Enter a integer2\n",
      "System not accept below 4 values\n"
     ]
    }
   ],
   "source": [
    "def collect_user_inputs(arg):\n",
    "    try:\n",
    "        num = int(input(\"Enter a integer\"))\n",
    "        if num < 4:\n",
    "            raise Exception(\"System not accept below 4 values\")\n",
    "        arg.append(num)\n",
    "       \n",
    "    except ValueError as ve:\n",
    "        collect_user_inputs(arg)\n",
    "        \n",
    "try:        \n",
    "    lst = []\n",
    "    for _ in range(10):\n",
    "        collect_user_inputs(lst)\n",
    "    print(lst)\n",
    "except Exception as e:\n",
    "    print(e)\n"
   ]
  },
  {
   "cell_type": "markdown",
   "metadata": {},
   "source": [
    "def hhh():\n",
    "    l=[]\n",
    "    for i in range(10):\n",
    "        try:\n",
    "            while True:\n",
    "                \n",
    "                try:\n",
    "                    \n",
    "                    a=int(input(\"enter integer\"))\n",
    "                    break\n",
    "                except:\n",
    "                    print(\"please enter a integer\")\n",
    "                    \n",
    "                \n",
    "            \n",
    "        except:\n",
    "            print(\"enter no. greater than  4\")\n",
    "            raise Exception(\"ggggggg\")\n",
    "        else:\n",
    "            l.append(a)\n"
   ]
  },
  {
   "cell_type": "code",
   "execution_count": 97,
   "metadata": {},
   "outputs": [],
   "source": [
    "def raisException(a):\n",
    "    if a < 4:\n",
    "        raise Exception(\"Input integer is less than 4 \")\n",
    "    return a\n",
    "\n",
    "\n",
    "def InserIntegerInList():\n",
    "    l = []\n",
    "    while len(l) != 10:\n",
    "        try:\n",
    "            n = int(input(\"Enter an integer: \"))\n",
    "            try:\n",
    "                raisException(n)\n",
    "            except Exception as e:\n",
    "                print(e)\n",
    "        except Exception as e:\n",
    "            print(e)\n",
    "        else:\n",
    "            l.append(n)\n",
    "            \n",
    "    return l\n"
   ]
  },
  {
   "cell_type": "code",
   "execution_count": 98,
   "metadata": {},
   "outputs": [
    {
     "name": "stdout",
     "output_type": "stream",
     "text": [
      "Enter an integer: sdf\n",
      "invalid literal for int() with base 10: 'sdf'\n",
      "Enter an integer: 43\n",
      "Enter an integer: 1\n",
      "Input integer is less than 4 \n",
      "Enter an integer: 76\n",
      "Enter an integer: 7\n",
      "Enter an integer: 788\n",
      "Enter an integer: 6\n",
      "Enter an integer: 8\n",
      "Enter an integer: 9\n",
      "Enter an integer: 6\n",
      "Enter an integer: 78\n"
     ]
    },
    {
     "data": {
      "text/plain": [
       "[43, 1, 76, 7, 788, 6, 8, 9, 6, 78]"
      ]
     },
     "execution_count": 98,
     "metadata": {},
     "output_type": "execute_result"
    }
   ],
   "source": [
    "InserIntegerInList()"
   ]
  },
  {
   "cell_type": "code",
   "execution_count": 99,
   "metadata": {},
   "outputs": [],
   "source": [
    "def raiseexception(a):\n",
    "    if a < 5:\n",
    "        raise Exception(\"less than 5 only\", a)\n",
    "    return a\n",
    "def insertint():\n",
    "    li = []\n",
    "    for i in range(10):\n",
    "        try:\n",
    "            a = int(input(\"insert an integer\"))\n",
    "            try:\n",
    "                raiseexception(a)\n",
    "            except Exception as a:\n",
    "                print(a)\n",
    "        except:\n",
    "            print(\"not interger\")\n",
    "    return li\n"
   ]
  },
  {
   "cell_type": "code",
   "execution_count": 100,
   "metadata": {},
   "outputs": [
    {
     "name": "stdout",
     "output_type": "stream",
     "text": [
      "insert an integersdf\n",
      "not interger\n",
      "insert an integer23\n",
      "insert an integer1\n",
      "('less than 5 only', 1)\n",
      "insert an integer345\n",
      "insert an integersfd\n",
      "not interger\n",
      "insert an integer4\n",
      "('less than 5 only', 4)\n",
      "insert an integer4\n",
      "('less than 5 only', 4)\n",
      "insert an integer4\n",
      "('less than 5 only', 4)\n",
      "insert an integer4\n",
      "('less than 5 only', 4)\n",
      "insert an integer44\n"
     ]
    },
    {
     "data": {
      "text/plain": [
       "[]"
      ]
     },
     "execution_count": 100,
     "metadata": {},
     "output_type": "execute_result"
    }
   ],
   "source": [
    "insertint()"
   ]
  },
  {
   "cell_type": "markdown",
   "metadata": {},
   "source": [
    "def task1():\n",
    "    count = 0\n",
    "    l = []\n",
    "    while count<10:\n",
    "        try:\n",
    "            a = int(input('Enter int'))\n",
    "            if a<4:\n",
    "                raise Exception(a)\n",
    "            l.append(a)\n",
    "            count += 1\n",
    "        except Exception as e:\n",
    "            print('Not an int or is less than 4')\n",
    "            continue\n",
    "    print(l)\n",
    "\n",
    "task1()\n"
   ]
  },
  {
   "cell_type": "code",
   "execution_count": 101,
   "metadata": {},
   "outputs": [],
   "source": [
    "def askint():\n",
    "    l = []\n",
    "    cnt = 1\n",
    "    while cnt<11:\n",
    "        try:\n",
    "            val = int(input(\"Enter integer :\"))\n",
    "            try:\n",
    "                val < 4\n",
    "                raise expection (\"Please enter value more than 4\")\n",
    "                continue\n",
    "            except:\n",
    "                l.append(val)                  \n",
    "                cnt = cnt+1 \n",
    "        except:\n",
    "            continue\n",
    "    return l\n"
   ]
  },
  {
   "cell_type": "code",
   "execution_count": 102,
   "metadata": {},
   "outputs": [
    {
     "name": "stdout",
     "output_type": "stream",
     "text": [
      "Enter integer :df\n",
      "Enter integer :23\n",
      "Enter integer :1\n",
      "Enter integer :45\n",
      "Enter integer :454\n",
      "Enter integer :345\n",
      "Enter integer :76\n",
      "Enter integer :54\n",
      "Enter integer :54\n",
      "Enter integer :454\n",
      "Enter integer :54\n"
     ]
    },
    {
     "data": {
      "text/plain": [
       "[23, 1, 45, 454, 345, 76, 54, 54, 454, 54]"
      ]
     },
     "execution_count": 102,
     "metadata": {},
     "output_type": "execute_result"
    }
   ],
   "source": [
    "askint()"
   ]
  },
  {
   "cell_type": "markdown",
   "metadata": {},
   "source": [
    "l = []\n",
    "def askint(l):\n",
    "    while True:\n",
    "        try:\n",
    "            a = int(input('Enter an integer'))\n",
    "            if a<4:\n",
    "                print('Entered number is less than 4')\n",
    "                continue\n",
    "        except Exception as e:\n",
    "            print(e)\n",
    "            continue \n",
    "        else:\n",
    "            l.append(a)\n",
    "            break\n",
    "for i in range(0,10):\n",
    "    askint(l)\n",
    "print(l)\n"
   ]
  },
  {
   "cell_type": "code",
   "execution_count": 103,
   "metadata": {},
   "outputs": [
    {
     "name": "stdout",
     "output_type": "stream",
     "text": [
      "Enter an integer345\n",
      "Enter an integer4\n",
      "Enter an integer\n",
      "invalid literal for int() with base 10: ''\n",
      "Enter an integerdsf\n",
      "invalid literal for int() with base 10: 'dsf'\n",
      "Enter an integer3\n",
      "Entered number is less than 4\n",
      "Enter an integer3\n",
      "Entered number is less than 4\n",
      "Enter an integer3\n",
      "Entered number is less than 4\n",
      "Enter an integer5\n",
      "Enter an integer\n",
      "invalid literal for int() with base 10: ''\n",
      "Enter an integer33\n",
      "Enter an integer3\n",
      "Entered number is less than 4\n",
      "Enter an integer\n",
      "invalid literal for int() with base 10: ''\n",
      "Enter an integer3\n",
      "Entered number is less than 4\n",
      "Enter an integer3\n",
      "Entered number is less than 4\n",
      "Enter an integer33\n",
      "Enter an integer\n",
      "invalid literal for int() with base 10: ''\n",
      "Enter an integer3\n",
      "Entered number is less than 4\n",
      "Enter an integer3\n",
      "Entered number is less than 4\n",
      "Enter an integer3\n",
      "Entered number is less than 4\n",
      "Enter an integer3\n",
      "Entered number is less than 4\n",
      "Enter an integer3\n",
      "Entered number is less than 4\n",
      "Enter an integer77\n",
      "Enter an integer8\n",
      "Enter an integer8\n",
      "Enter an integer7\n",
      "Enter an integer8\n",
      "[345, 4, 5, 33, 33, 77, 8, 8, 7, 8]\n"
     ]
    }
   ],
   "source": [
    "l = []\n",
    "def askint(l):\n",
    "    while True:\n",
    "        try:\n",
    "            a = int(input('Enter an integer'))\n",
    "            if a<4:\n",
    "                print('Entered number is less than 4')\n",
    "                continue\n",
    "        except Exception as e:\n",
    "            print(e)\n",
    "            continue \n",
    "        else:\n",
    "            l.append(a)\n",
    "            break\n",
    "for i in range(0,10):\n",
    "    askint(l)\n",
    "print(l)"
   ]
  },
  {
   "cell_type": "markdown",
   "metadata": {},
   "source": [
    "def raiseexception(a):\n",
    "    if a<4:\n",
    "        raise Exception(\"custom error\",a)\n",
    "    return a\n",
    "def insertno():\n",
    "    l = []\n",
    "    i= 0\n",
    "    while i<11:\n",
    "        try:\n",
    "            n = int(input(\"Enter an integer: \"))\n",
    "            raiseexception(n)\n",
    "        except:\n",
    "            print(\"Error try again\")\n",
    "        else:\n",
    "            l.append(n)\n",
    "            i = i+1\n",
    "        finally:\n",
    "            print(l)\n"
   ]
  },
  {
   "cell_type": "code",
   "execution_count": 104,
   "metadata": {},
   "outputs": [
    {
     "name": "stdout",
     "output_type": "stream",
     "text": [
      "Enter Valuedsf\n",
      "Enter Value12\n",
      "Enter Value2\n",
      "Enter Valuesdfs\n",
      "Enter Value564\n",
      "Enter Value456\n",
      "Enter Value45645\n",
      "Enter Value6456\n",
      "Enter Value456\n",
      "Enter Value65\n",
      "Enter Value64\n",
      "Enter Value45645\n",
      "Enter Value654\n",
      "Enter Value65654\n",
      "[564, 456, 45645, 6456, 456, 65, 64, 45645, 654, 65654]\n",
      "[]\n",
      "[12]\n",
      "[]\n"
     ]
    }
   ],
   "source": [
    "def myFunc():    \n",
    "    myList = []\n",
    "    try:\n",
    "        while len(myList) <= 9:\n",
    "            a=int(input('Enter Value'))\n",
    "            if(a<4):\n",
    "                raise Exception('Enter value more then 3')\n",
    "            else:\n",
    "                myList.append(a)\n",
    "    except Exception as e:\n",
    "        myFunc()    \n",
    "    print(myList)\n",
    "myFunc()\n"
   ]
  },
  {
   "cell_type": "markdown",
   "metadata": {},
   "source": [
    "def insert_list():\n",
    "    l = []\n",
    "    count=0\n",
    "    while count<10:\n",
    "        try: \n",
    "            a = int(input(\"please enter integer values\"))\n",
    "            if a<4:\n",
    "                raise Exception ('please enter number greater than 4')\n",
    "            else:\n",
    "                l.append(a)\n",
    "                count= count+1\n",
    "        except:\n",
    "            print('this is not an integer')\n",
    "            continue\n",
    "    print('you have successfully entered 10 ineger values')\n",
    "    print(l)\n"
   ]
  },
  {
   "cell_type": "code",
   "execution_count": null,
   "metadata": {},
   "outputs": [],
   "source": []
  }
 ],
 "metadata": {
  "kernelspec": {
   "display_name": "Python 3",
   "language": "python",
   "name": "python3"
  },
  "language_info": {
   "codemirror_mode": {
    "name": "ipython",
    "version": 3
   },
   "file_extension": ".py",
   "mimetype": "text/x-python",
   "name": "python",
   "nbconvert_exporter": "python",
   "pygments_lexer": "ipython3",
   "version": "3.8.5"
  }
 },
 "nbformat": 4,
 "nbformat_minor": 4
}
